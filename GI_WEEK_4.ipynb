{
  "nbformat": 4,
  "nbformat_minor": 0,
  "metadata": {
    "colab": {
      "provenance": [],
      "authorship_tag": "ABX9TyOvFKmOkPo9sR14D9pM4jW2",
      "include_colab_link": true
    },
    "kernelspec": {
      "name": "python3",
      "display_name": "Python 3"
    },
    "language_info": {
      "name": "python"
    }
  },
  "cells": [
    {
      "cell_type": "markdown",
      "metadata": {
        "id": "view-in-github",
        "colab_type": "text"
      },
      "source": [
        "<a href=\"https://colab.research.google.com/github/2303a52274/Generative-AI/blob/main/GI_WEEK_4.ipynb\" target=\"_parent\"><img src=\"https://colab.research.google.com/assets/colab-badge.svg\" alt=\"Open In Colab\"/></a>"
      ]
    },
    {
      "cell_type": "markdown",
      "source": [
        "1. Design a simple ANN architecture with one input and one output layer (no hidden\n",
        "layer). Assume a linear activation function in the output layer.\n",
        "• Write Python code for a backpropagation algorithm with gradient descent optimization to\n",
        "update weights and bias parameters of the ANN model with training data shown in Table\n",
        "1.\n",
        "• Calculate the mean square error with training and testing data shown in Table 2.\n",
        "• Write Python code that reads the input data [x1, x2, and x3] from the user. Predict the\n",
        "output with deployed ANN model\n",
        "Tabela 1: Training Data\n",
        "x1 x2 x3 y\n",
        "0.1 0.2 0.3 0.14\n",
        "0.2 0.3 0.4 0.20\n",
        "0.3 0.4 0.5 0.26\n",
        "0.5 0.6 0.7 0.38\n",
        "0.1 0.3 0.5 0.22\n",
        "0.2 0.4 0.6 0.28\n",
        "0.3 0.5 0.7 0.34\n",
        "0.4 0.6 0.8 0.40\n",
        "0.5 0.7 0.1 0.22\n",
        "\n",
        "Tabela 2: Test Data\n",
        "\n",
        "x1 x2 x3 y\n",
        "0.6 0.7 0.8 0.44\n",
        "\n",
        "0.7 0.8 0.9 0.50\n"
      ],
      "metadata": {
        "id": "lioVVtCqMKEj"
      }
    },
    {
      "cell_type": "code",
      "source": [
        "import numpy as np\n",
        "\n",
        "data_train = np.array([\n",
        "    [0.1, 0.2, 0.3, 0.14],\n",
        "    [0.2, 0.3, 0.4, 0.20],\n",
        "    [0.3, 0.4, 0.5, 0.26],\n",
        "    [0.5, 0.6, 0.7, 0.38],\n",
        "    [0.1, 0.3, 0.5, 0.22],\n",
        "    [0.2, 0.4, 0.6, 0.28],\n",
        "    [0.3, 0.5, 0.7, 0.34],\n",
        "    [0.4, 0.6, 0.8, 0.40],\n",
        "    [0.5, 0.7, 0.1, 0.22]\n",
        "])\n",
        "\n",
        "data_test = np.array([\n",
        "    [0.6, 0.7, 0.8, 0.44],\n",
        "    [0.7, 0.8, 0.9, 0.50]\n",
        "])\n",
        "\n",
        "X_train = data_train[:, :3]\n",
        "y_train = data_train[:, 3]\n",
        "\n",
        "X_test = data_test[:, :3]\n",
        "y_test = data_test[:, 3]\n",
        "\n",
        "weights = np.random.rand(3)\n",
        "bias = np.random.rand(1)[0]\n",
        "learning_rate = 0.01\n",
        "num_epochs = 1000\n",
        "def linear_activation(z):\n",
        "    return z\n",
        "\n",
        "def linear_activation_derivative(z):\n",
        "    return 1\n",
        "\n",
        "def mean_squared_error(y_true, y_pred):\n",
        "    return np.mean((y_true - y_pred) ** 2)\n",
        "\n",
        "for epoch in range(num_epochs):\n",
        "    y_pred_train = linear_activation(np.dot(X_train, weights) + bias)\n",
        "\n",
        "    error = y_pred_train - y_train\n",
        "    d_weights = np.dot(X_train.T, error) / len(X_train)\n",
        "    d_bias = np.sum(error) / len(X_train)\n",
        "\n",
        "    weights -= learning_rate * d_weights\n",
        "    bias -= learning_rate * d_bias\n",
        "\n",
        "y_pred_train_final = linear_activation(np.dot(X_train, weights) + bias)\n",
        "y_pred_test_final = linear_activation(np.dot(X_test, weights) + bias)\n",
        "\n",
        "mse_train = mean_squared_error(y_train, y_pred_train_final)\n",
        "mse_test = mean_squared_error(y_test, y_pred_test_final)\n",
        "\n",
        "print(\"Final weights:\", weights)\n",
        "print(\"Final bias:\", bias)\n",
        "print(\"Training MSE:\", mse_train)\n",
        "print(\"Testing MSE:\", mse_test)\n",
        "\n",
        "user_input = np.array([float(x) for x in input(\"Enter values for x1, x2, x3 (comma-separated): \").replace(\" \", \"\").split(\",\")])\n",
        "user_prediction = linear_activation(np.dot(user_input, weights) + bias)\n",
        "print(\"Predicted output for input\", user_input, \":\", user_prediction)"
      ],
      "metadata": {
        "colab": {
          "base_uri": "https://localhost:8080/"
        },
        "id": "OCGuLxvKF_cO",
        "outputId": "d58ebeb3-d1d2-457d-e7f7-4b31ad49547a"
      },
      "execution_count": null,
      "outputs": [
        {
          "output_type": "stream",
          "name": "stdout",
          "text": [
            "Final weights: [ 0.05592938  0.00635777 -0.00232558]\n",
            "Final bias: 0.2614363650533988\n",
            "Training MSE: 0.006035488731694548\n",
            "Testing MSE: 0.02943154630340023\n",
            "Enter values for x1, x2, x3 (comma-separated): 0.1,0.2,0.3\n",
            "Predicted output for input [0.1 0.2 0.3] : 0.2676031835770053\n"
          ]
        }
      ]
    },
    {
      "cell_type": "markdown",
      "source": [
        "2. Design a simple ANN architecture with one input and one output layer (no hidden\n",
        "layer). Assume a sigmoid activation function shown in the equation 1 in the output layer.\n",
        "f (x) = 1\n",
        "1 + e−x (1)\n",
        "• Write Python code for a backpropagation algorithm with gradient descent optimization to\n",
        "update weights and bias parameters of the ANN model with training data shown in Table\n",
        "3.\n",
        "©Dr. Venkataramana Veeramsetty, Professor Pag. 1 de 2\n",
        "II - B.Tech (CS& AI) Generative AI - Assignment - 4\n",
        "Tabela 3: Training Data\n",
        "x1 x2 x3 y\n",
        "0.1 0.2 0.3 0.5349\n",
        "0.2 0.3 0.4 0.5498\n",
        "0.3 0.4 0.5 0.5646\n",
        "0.5 0.6 0.7 0.5939\n",
        "0.1 0.3 0.5 0.5548\n",
        "0.2 0.4 0.6 0.5695\n",
        "0.3 0.5 0.7 0.5842\n",
        "0.4 0.6 0.8 0.5987\n",
        "0.5 0.7 0.1 0.5548\n",
        "Tabela 4: Test Data\n",
        "x1 x2 x3 y\n",
        "0.6 0.7 0.8 0.6083\n",
        "0.7 0.8 0.9 0.6225\n",
        "• Calculate the mean square error with training and testing data shown in Table 4.\n",
        "• Write Python code that reads the input data [x1, x2, and x3] from the user. Predict the\n",
        "output with deployed ANN model\n",
        "• Expected learning Outcomes from this assignment related to python\n",
        "– Students are able to understand how backpropagation algorithm helps to update model\n",
        "parameters of ANN\n",
        "– Students are able to write code in python for backpropagation algorithm\n",
        "– Students are able to design architecture of ANN based on problem statement\n",
        "– Students are able to derive mathematical expression for change in weights and bias\n",
        "parameters for different activation function"
      ],
      "metadata": {
        "id": "Vtk17DqbMs_3"
      }
    },
    {
      "cell_type": "code",
      "source": [
        "\n",
        "import numpy as np\n",
        "\n",
        "data_train = np.array([\n",
        "    [0.1, 0.2, 0.3, 0.5349],\n",
        "    [0.2, 0.3, 0.4, 0.5498],\n",
        "    [0.3, 0.4, 0.5, 0.5646],\n",
        "    [0.5, 0.6, 0.7, 0.5939],\n",
        "    [0.1, 0.3, 0.5, 0.5548],\n",
        "    [0.2, 0.4, 0.6, 0.5695],\n",
        "    [0.3, 0.5, 0.7, 0.5842],\n",
        "    [0.4, 0.6, 0.8, 0.5987],\n",
        "    [0.5, 0.7, 0.1, 0.5548]\n",
        "])\n",
        "\n",
        "data_test = np.array([\n",
        "    [0.6, 0.7, 0.8, 0.6083],\n",
        "    [0.7, 0.8, 0.9, 0.6225]\n",
        "])\n",
        "\n",
        "X_train = data_train[:, :3]\n",
        "y_train = data_train[:, 3]\n",
        "X_test = data_test[:, :3]\n",
        "y_test = data_test[:, 3]\n",
        "\n",
        "weights = np.random.rand(3)\n",
        "bias = np.random.rand(1)[0]\n",
        "learning_rate = 0.01\n",
        "num_epochs = 1000\n",
        "\n",
        "def sigmoid(x):\n",
        "    return 1 / (1 + np.exp(-x))\n",
        "\n",
        "def sigmoid_derivative(x):\n",
        "    return x * (1 - x)\n",
        "\n",
        "def mean_squared_error(y_true, y_pred):\n",
        "    return np.mean((y_true - y_pred) ** 2)\n",
        "\n",
        "for epoch in range(num_epochs):\n",
        "\n",
        "    z = np.dot(X_train, weights) + bias\n",
        "    y_pred_train = sigmoid(z)\n",
        "\n",
        "    error = y_pred_train - y_train\n",
        "    d_weights = np.dot(X_train.T, error * sigmoid_derivative(y_pred_train)) / len(X_train)\n",
        "    d_bias = np.sum(error * sigmoid_derivative(y_pred_train)) / len(X_train)\n",
        "\n",
        "    weights -= learning_rate * d_weights\n",
        "    bias -= learning_rate * d_bias\n",
        "\n",
        "y_pred_train_final = sigmoid(np.dot(X_train, weights) + bias)\n",
        "y_pred_test_final = sigmoid(np.dot(X_test, weights) + bias)\n",
        "\n",
        "mse_train = mean_squared_error(y_train, y_pred_train_final)\n",
        "mse_test = mean_squared_error(y_test, y_pred_test_final)\n",
        "\n",
        "print(\"Final weights:\", weights)\n",
        "print(\"Final bias:\", bias)\n",
        "print(\"Training MSE:\", mse_train)\n",
        "print(\"Testing MSE:\", mse_test)\n",
        "\n",
        "user_input = np.array([float(x) for x in input(\"Enter values for x1, x2, x3 (comma-separated): \").replace(\" \", \"\").split(\",\")])\n",
        "user_prediction = sigmoid(np.dot(user_input, weights) + bias)\n",
        "print(\"Predicted output for input\", user_input, \":\", user_prediction)\n"
      ],
      "metadata": {
        "colab": {
          "base_uri": "https://localhost:8080/"
        },
        "id": "OSv75VmbGP1u",
        "outputId": "ef0be13e-a935-424f-a7d1-5cd0adae66f5"
      },
      "execution_count": null,
      "outputs": [
        {
          "output_type": "stream",
          "name": "stdout",
          "text": [
            "Final weights: [0.59156587 0.457183   0.82718878]\n",
            "Final bias: 0.11900464222299027\n",
            "Training MSE: 0.02171563665989377\n",
            "Testing MSE: 0.043735922640411595\n",
            "Enter values for x1, x2, x3 (comma-separated): 0.2,0.3,0.4\n",
            "Predicted output for input [0.2 0.3 0.4] : 0.669372475578653\n"
          ]
        }
      ]
    }
  ]
}